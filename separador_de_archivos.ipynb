{
  "nbformat": 4,
  "nbformat_minor": 0,
  "metadata": {
    "colab": {
      "provenance": []
    },
    "kernelspec": {
      "name": "python3",
      "display_name": "Python 3"
    },
    "language_info": {
      "name": "python"
    }
  },
  "cells": [
    {
      "cell_type": "code",
      "source": [
        "import os\n",
        "import shutil"
      ],
      "metadata": {
        "id": "MDYZ7wTuNjzT"
      },
      "execution_count": 1,
      "outputs": []
    },
    {
      "cell_type": "markdown",
      "source": [],
      "metadata": {
        "id": "JbicvaNceUvk"
      }
    },
    {
      "cell_type": "code",
      "execution_count": 4,
      "metadata": {
        "id": "zVFecG0_Neiy"
      },
      "outputs": [],
      "source": [
        "# Ruta de la carpeta principal donde se encuentran los archivos\n",
        "folder_path = \"/content/drive/MyDrive/datos\"\n",
        "\n",
        "# Rutas de las carpetas de destino para los archivos .xml y .jpg\n",
        "annotations_folder = \"/content/drive/MyDrive/Anotaciones/\"\n",
        "images_folder = \"/content/drive/MyDrive/Imagenes/\"\n",
        "\n"
      ]
    },
    {
      "cell_type": "code",
      "source": [
        "# Crea las carpetas de destino si no existen\n",
        "os.makedirs(annotations_folder, exist_ok=True)\n",
        "os.makedirs(images_folder, exist_ok=True)\n",
        "\n",
        "# Recorre todos los archivos en la carpeta principal\n",
        "for file_name in os.listdir(folder_path):\n",
        "    # Ruta completa del archivo\n",
        "    file_path = os.path.join(folder_path, file_name)\n",
        "\n",
        "    # Verifica si es un archivo .xml\n",
        "    if file_name.lower().endswith(\".xml\"):\n",
        "        # Mueve el archivo a la carpeta de anotaciones\n",
        "        shutil.move(file_path, os.path.join(annotations_folder, file_name))\n",
        "\n",
        "    # Verifica si es un archivo .jpg\n",
        "    elif file_name.lower().endswith(\".jpg\"):\n",
        "        # Mueve el archivo a la carpeta de imágenes\n",
        "        shutil.move(file_path, os.path.join(images_folder, file_name))"
      ],
      "metadata": {
        "id": "fPuIOBJZOs6O"
      },
      "execution_count": 5,
      "outputs": []
    }
  ]
}