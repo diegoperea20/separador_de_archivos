{
  "nbformat": 4,
  "nbformat_minor": 0,
  "metadata": {
    "colab": {
      "provenance": []
    },
    "kernelspec": {
      "name": "python3",
      "display_name": "Python 3"
    },
    "language_info": {
      "name": "python"
    }
  },
  "cells": [
    {
      "cell_type": "code",
      "execution_count": 5,
      "metadata": {
        "colab": {
          "base_uri": "https://localhost:8080/"
        },
        "id": "MJkMcFBme_Er",
        "outputId": "42e30d87-a5ad-4c12-b379-92fb00989b0a"
      },
      "outputs": [
        {
          "output_type": "stream",
          "name": "stdout",
          "text": [
            "Collecting json2xml\n",
            "  Downloading json2xml-4.0.0-py3-none-any.whl (13 kB)\n",
            "Requirement already satisfied: defusedxml==0.7.1 in /usr/local/lib/python3.10/dist-packages (from json2xml) (0.7.1)\n",
            "Collecting urllib3==1.26.13 (from json2xml)\n",
            "  Downloading urllib3-1.26.13-py2.py3-none-any.whl (140 kB)\n",
            "\u001b[2K     \u001b[90m━━━━━━━━━━━━━━━━━━━━━━━━━━━━━━━━━━━━━━━\u001b[0m \u001b[32m140.6/140.6 kB\u001b[0m \u001b[31m3.6 MB/s\u001b[0m eta \u001b[36m0:00:00\u001b[0m\n",
            "\u001b[?25hInstalling collected packages: urllib3, json2xml\n",
            "  Attempting uninstall: urllib3\n",
            "    Found existing installation: urllib3 1.26.16\n",
            "    Uninstalling urllib3-1.26.16:\n",
            "      Successfully uninstalled urllib3-1.26.16\n",
            "Successfully installed json2xml-4.0.0 urllib3-1.26.13\n"
          ]
        }
      ],
      "source": [
        "!pip install json2xml\n",
        "\n"
      ]
    },
    {
      "cell_type": "code",
      "source": [
        "import os\n",
        "import json\n",
        "from json2xml import json2xml\n",
        "from json2xml.utils import readfromjson, readfromstring\n",
        "\n",
        "def json_to_xml(input_file, output_file):\n",
        "    with open(input_file, 'r') as json_file:\n",
        "        data = json.load(json_file)\n",
        "\n",
        "    xml_data = json2xml.Json2xml(data).to_xml()\n",
        "\n",
        "    with open(output_file, 'w') as xml_file:\n",
        "        xml_file.write(xml_data)\n",
        "\n",
        "def convert_files_in_folder(input_folder, output_folder):\n",
        "    if not os.path.exists(output_folder):\n",
        "        os.makedirs(output_folder)\n",
        "\n",
        "    for filename in os.listdir(input_folder):\n",
        "        if filename.endswith(\".json\"):\n",
        "            input_file_path = os.path.join(input_folder, filename)\n",
        "            output_file_path = os.path.join(output_folder, filename.replace(\".json\", \".xml\"))\n",
        "            json_to_xml(input_file_path, output_file_path)\n",
        "            print(f\"Converted {input_file_path} to {output_file_path}\")\n",
        "\n",
        "if __name__ == \"__main__\":\n",
        "    input_folder = \"/content/drive/MyDrive/Anotaciones\"  # Reemplaza con la carpeta que contiene los archivos .json\n",
        "    output_folder = \"/content/drive/MyDrive/anotaciones-xml\"  # Reemplaza con la carpeta donde guardarás los archivos .xml\n",
        "    convert_files_in_folder(input_folder, output_folder)\n",
        "\n"
      ],
      "metadata": {
        "colab": {
          "base_uri": "https://localhost:8080/"
        },
        "id": "ODpn346hfYZ5",
        "outputId": "899a02b6-b5d1-4631-84df-f082fd48be3e"
      },
      "execution_count": 6,
      "outputs": [
        {
          "output_type": "stream",
          "name": "stdout",
          "text": [
            "Converted /content/drive/MyDrive/Anotaciones/1690925414412.json to /content/drive/MyDrive/anotaciones-xml/1690925414412.xml\n",
            "Converted /content/drive/MyDrive/Anotaciones/1690925435904.json to /content/drive/MyDrive/anotaciones-xml/1690925435904.xml\n",
            "Converted /content/drive/MyDrive/Anotaciones/1690925414419.json to /content/drive/MyDrive/anotaciones-xml/1690925414419.xml\n",
            "Converted /content/drive/MyDrive/Anotaciones/1690925314894.json to /content/drive/MyDrive/anotaciones-xml/1690925314894.xml\n",
            "Converted /content/drive/MyDrive/Anotaciones/1690925414426.json to /content/drive/MyDrive/anotaciones-xml/1690925414426.xml\n",
            "Converted /content/drive/MyDrive/Anotaciones/1690925370847.json to /content/drive/MyDrive/anotaciones-xml/1690925370847.xml\n",
            "Converted /content/drive/MyDrive/Anotaciones/1690925370867.json to /content/drive/MyDrive/anotaciones-xml/1690925370867.xml\n",
            "Converted /content/drive/MyDrive/Anotaciones/1690925370860.json to /content/drive/MyDrive/anotaciones-xml/1690925370860.xml\n",
            "Converted /content/drive/MyDrive/Anotaciones/1690925414403.json to /content/drive/MyDrive/anotaciones-xml/1690925414403.xml\n",
            "Converted /content/drive/MyDrive/Anotaciones/1690925351963.json to /content/drive/MyDrive/anotaciones-xml/1690925351963.xml\n",
            "Converted /content/drive/MyDrive/Anotaciones/1690925314919.json to /content/drive/MyDrive/anotaciones-xml/1690925314919.xml\n",
            "Converted /content/drive/MyDrive/Anotaciones/1690925391091.json to /content/drive/MyDrive/anotaciones-xml/1690925391091.xml\n",
            "Converted /content/drive/MyDrive/Anotaciones/1690925391114.json to /content/drive/MyDrive/anotaciones-xml/1690925391114.xml\n",
            "Converted /content/drive/MyDrive/Anotaciones/1690925391099.json to /content/drive/MyDrive/anotaciones-xml/1690925391099.xml\n",
            "Converted /content/drive/MyDrive/Anotaciones/1690925351940.json to /content/drive/MyDrive/anotaciones-xml/1690925351940.xml\n",
            "Converted /content/drive/MyDrive/Anotaciones/1690925370854.json to /content/drive/MyDrive/anotaciones-xml/1690925370854.xml\n",
            "Converted /content/drive/MyDrive/Anotaciones/1690925314910.json to /content/drive/MyDrive/anotaciones-xml/1690925314910.xml\n",
            "Converted /content/drive/MyDrive/Anotaciones/1690925351956.json to /content/drive/MyDrive/anotaciones-xml/1690925351956.xml\n",
            "Converted /content/drive/MyDrive/Anotaciones/1690925391107.json to /content/drive/MyDrive/anotaciones-xml/1690925391107.xml\n",
            "Converted /content/drive/MyDrive/Anotaciones/1690925351949.json to /content/drive/MyDrive/anotaciones-xml/1690925351949.xml\n",
            "Converted /content/drive/MyDrive/Anotaciones/1690925314902.json to /content/drive/MyDrive/anotaciones-xml/1690925314902.xml\n",
            "Converted /content/drive/MyDrive/Anotaciones/1690925435935.json to /content/drive/MyDrive/anotaciones-xml/1690925435935.xml\n",
            "Converted /content/drive/MyDrive/Anotaciones/1690925435913.json to /content/drive/MyDrive/anotaciones-xml/1690925435913.xml\n",
            "Converted /content/drive/MyDrive/Anotaciones/1690925435928.json to /content/drive/MyDrive/anotaciones-xml/1690925435928.xml\n",
            "Converted /content/drive/MyDrive/Anotaciones/1690925435921.json to /content/drive/MyDrive/anotaciones-xml/1690925435921.xml\n"
          ]
        }
      ]
    }
  ]
}